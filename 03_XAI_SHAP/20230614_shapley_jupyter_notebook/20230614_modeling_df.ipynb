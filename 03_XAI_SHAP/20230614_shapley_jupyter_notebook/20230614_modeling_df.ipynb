{
 "cells": [
  {
   "cell_type": "markdown",
   "id": "48171d57",
   "metadata": {},
   "source": [
    "# Import libraries\n",
    "\n",
    "* Use just one year (e.g. 2019)\n",
    "* Train on 70 %, test on 30 % of the data \n",
    "* Random forests (classification)\n",
    "\n",
    "* two classes\n",
    "* decrease class means > -10%\n",
    "* no change class is between -5 and 5 %"
   ]
  },
  {
   "cell_type": "code",
   "execution_count": 2,
   "id": "18b8670c",
   "metadata": {},
   "outputs": [],
   "source": [
    "import pandas as pd\n",
    "import numpy as np\n",
    "\n",
    "# plotting\n",
    "import matplotlib.pyplot as plt\n",
    "import plotly\n",
    "\n",
    "# ML libraries \n",
    "from sklearn.ensemble import RandomForestClassifier\n",
    "from sklearn.metrics import accuracy_score, classification_report, confusion_matrix, ConfusionMatrixDisplay\n",
    "from sklearn.model_selection import train_test_split\n",
    "\n",
    "# SHAP values\n",
    "import shap\n",
    "#shap.initjs()"
   ]
  },
  {
   "cell_type": "markdown",
   "id": "5eef299d",
   "metadata": {},
   "source": [
    "# Load the modeling dataframe"
   ]
  },
  {
   "cell_type": "code",
   "execution_count": 4,
   "id": "ca91dded",
   "metadata": {},
   "outputs": [
    {
     "name": "stdout",
     "output_type": "stream",
     "text": [
      "       NDVI_anomaly  agriculture_proximity      aspect  canopyheight  \\\n",
      "0          1.416254             127.341949  167.068985     19.195433   \n",
      "1          1.416254             115.573837  169.534698     18.430872   \n",
      "2         -5.224010             101.598724  168.056488     19.391434   \n",
      "3         -2.815495             261.209290  156.305817     20.143400   \n",
      "4         24.508228             158.589233  156.574768     18.864574   \n",
      "...             ...                    ...         ...           ...   \n",
      "52671    -11.722970             357.211300  136.366700     22.712750   \n",
      "52672    -14.182640             366.751200  205.665100     23.685390   \n",
      "52673    -14.234450              64.125180  165.034800     20.886400   \n",
      "52674    -13.254150             204.868300  259.138500     21.125610   \n",
      "52675    -12.797440             245.438700  170.808900     22.881620   \n",
      "\n",
      "        elevation  forest_proximity     slope        TCD  water_proximity  \\\n",
      "0       82.999863         56.206688  6.481580  56.059963      5621.676758   \n",
      "1       73.645073         44.118298  6.551041  51.524117      6108.713867   \n",
      "2       97.740540         67.239449  2.247655  65.504623      2136.481934   \n",
      "3       98.818001         78.658653  2.501508  71.452866       512.803833   \n",
      "4       96.789352         46.413036  2.552680  50.356663       180.999008   \n",
      "...           ...               ...       ...        ...              ...   \n",
      "52671  139.370600        118.962400  1.221479  72.657070      2858.388000   \n",
      "52672  136.199500        160.249200  0.731550  77.908870      2056.680000   \n",
      "52673  149.972600         32.338630  7.851858  51.094920      5187.160000   \n",
      "52674  116.493800        116.249100  0.840549  61.088820       899.694500   \n",
      "52675  118.445900        198.083800  0.784940  66.945210      1392.098000   \n",
      "\n",
      "       Year_NDVI_anom  ESI_sameyear  SMI_sameyear  SPEI_sameyear  \\\n",
      "0                2019      0.849772      0.042454      -0.743755   \n",
      "1                2019      0.855950      0.029779      -0.733093   \n",
      "2                2019      0.864585      0.052170      -0.913538   \n",
      "3                2019      0.860861      0.063349      -0.909115   \n",
      "4                2019      0.852769      0.061530      -0.907193   \n",
      "...               ...           ...           ...            ...   \n",
      "52671            2022      0.412488      0.109331      -1.135887   \n",
      "52672            2022      0.450338      0.097038      -1.149153   \n",
      "52673            2022      0.446560      0.236471      -0.987508   \n",
      "52674            2022      0.402720      0.263094      -0.794651   \n",
      "52675            2022      0.375088      0.264055      -0.794661   \n",
      "\n",
      "       SSM_sameyear  SWI_sameyear  ESI_1year  SMI_1year  SPEI_1year  \\\n",
      "0         35.250633     46.300980   0.605380   0.481579   -1.172849   \n",
      "1         36.018749     44.085304   0.605989   0.481246   -1.168360   \n",
      "2         40.332726     44.647263   0.596929   0.435959   -1.196411   \n",
      "3         48.481522     49.100746   0.553704   0.440858   -1.200897   \n",
      "4         45.580509     48.206772   0.578323   0.432021   -1.202560   \n",
      "...             ...           ...        ...        ...         ...   \n",
      "52671     58.753530     46.068130   0.617913   0.139471   -0.348668   \n",
      "52672     60.625130     45.563990   0.631177   0.131951   -0.348411   \n",
      "52673     41.423920     36.430370   0.566822   0.224587   -0.141515   \n",
      "52674     56.664580     50.812410   0.580408   0.242124   -0.222363   \n",
      "52675     58.901100     52.213680   0.590894   0.248938   -0.234657   \n",
      "\n",
      "       SSM_1year  SWI_1year  \n",
      "0      40.570732  49.773067  \n",
      "1      44.258320  47.886997  \n",
      "2      40.333015  46.733868  \n",
      "3      43.295013  50.150215  \n",
      "4      41.055698  49.297066  \n",
      "...          ...        ...  \n",
      "52671  59.808300  58.753440  \n",
      "52672  58.157580  58.379790  \n",
      "52673  49.606260  55.351350  \n",
      "52674  58.147060  58.859430  \n",
      "52675  58.693150  59.750250  \n",
      "\n",
      "[52676 rows x 20 columns]\n",
      "(12676, 20)\n",
      "[2019]\n"
     ]
    }
   ],
   "source": [
    "# Load the dataframe from a file \n",
    "df = pd.read_csv('D:/Stenka_Cliwac/Topic_1/05_RESULTS/20230525_modeling_df/all/modeling_df.csv')\n",
    "\n",
    "# Delete the columns named \"x\" and \"y\"\n",
    "columns_to_delete = ['x', 'y']\n",
    "df = df.drop(columns=columns_to_delete)\n",
    "\n",
    "# Print the modified dataframe\n",
    "print(df)\n",
    "\n",
    "# Subset to year 2019 \n",
    "\n",
    "df_2019 = df[df[\"Year_NDVI_anom\"] == 2019] # 12676 rows, 20 columns \n",
    "print(df_2019.shape) # (12676, 20)\n",
    "\n",
    "# Get the unique values in the \"Year_NDVI_anom\" column\n",
    "unique_years = df_2019['Year_NDVI_anom'].unique()\n",
    "\n",
    "# Print the unique years\n",
    "print(unique_years) "
   ]
  },
  {
   "cell_type": "markdown",
   "id": "83551b35",
   "metadata": {},
   "source": [
    "# Create new classes"
   ]
  },
  {
   "cell_type": "code",
   "execution_count": 7,
   "id": "5c524c2c",
   "metadata": {},
   "outputs": [
    {
     "name": "stdout",
     "output_type": "stream",
     "text": [
      "no_change         5392\n",
      "small_decrease    4603\n",
      "large_decrease    2573\n",
      "small_increase      82\n",
      "large_increase      26\n",
      "Name: NDVI_categories, dtype: int64\n"
     ]
    },
    {
     "name": "stderr",
     "output_type": "stream",
     "text": [
      "\n",
      "A value is trying to be set on a copy of a slice from a DataFrame.\n",
      "Try using .loc[row_indexer,col_indexer] = value instead\n",
      "\n",
      "See the caveats in the documentation: https://pandas.pydata.org/pandas-docs/stable/user_guide/indexing.html#returning-a-view-versus-a-copy\n"
     ]
    }
   ],
   "source": [
    "# Define the thresholds and corresponding categories\n",
    "thresholds = [-np.inf, -10, -5, 5, 10, np.inf]\n",
    "categories = [\"large_decrease\", \"small_decrease\", \"no_change\", \"small_increase\", \"large_increase\"]\n",
    "\n",
    "# Create a new column \"NDVI_categories\" based on the classification\n",
    "df_2019[\"NDVI_categories\"] = pd.cut(df_2019[\"NDVI_anomaly\"], bins=thresholds, labels=categories, right=False)\n",
    "\n",
    "# number per category\n",
    "\n",
    "category_counts = df_2019[\"NDVI_categories\"].value_counts()\n",
    "print(category_counts)\n",
    "\n",
    "#no_change         5392\n",
    "#small_decrease    4603\n",
    "#large_decrease    2573\n",
    "#small_increase      82\n",
    "#large_increase      26\n",
    "#Name: NDVI_categories, dtype: int64"
   ]
  },
  {
   "cell_type": "markdown",
   "id": "973a69a8",
   "metadata": {},
   "source": [
    "# Remove increase classes\n",
    "\n",
    "* too few samples in the % increase categories\n",
    "* plus, my study is about why the forest suffers...\n",
    "* I am also removing the \"small_decrease\" class now."
   ]
  },
  {
   "cell_type": "code",
   "execution_count": 8,
   "id": "6297007f",
   "metadata": {},
   "outputs": [
    {
     "name": "stdout",
     "output_type": "stream",
     "text": [
      "['no_change', 'large_decrease']\n",
      "Categories (5, object): ['large_decrease' < 'small_decrease' < 'no_change' < 'small_increase' < 'large_increase']\n",
      "no_change         5392\n",
      "large_decrease    2573\n",
      "small_decrease       0\n",
      "small_increase       0\n",
      "large_increase       0\n",
      "Name: NDVI_categories, dtype: int64\n"
     ]
    }
   ],
   "source": [
    "# Create a boolean mask for rows to be removed\n",
    "mask = (df_2019[\"NDVI_categories\"] == \"small_increase\") | (df_2019[\"NDVI_categories\"] == \"large_increase\") | (df_2019[\"NDVI_categories\"] == \"small_decrease\")\n",
    "\n",
    "# Apply the mask to the dataframe to remove the rows\n",
    "df_filtered = df_2019[~mask]\n",
    "\n",
    "# categories\n",
    "print(df_filtered[\"NDVI_categories\"].unique()) # ['no_change', 'large_decrease']\n",
    "\n",
    "print(df_filtered[\"NDVI_categories\"].value_counts())\n",
    "#no_change         5392\n",
    "#large_decrease    2573\n",
    "#small_decrease       0\n",
    "#small_increase       0\n",
    "#large_increase       0\n",
    "#Name: NDVI_categories, dtype: int64"
   ]
  },
  {
   "cell_type": "markdown",
   "id": "5dca19b7",
   "metadata": {},
   "source": [
    "# Make sample sizes per class equal\n",
    "\n",
    "* less samples per category\n",
    "* 2500 to start with"
   ]
  },
  {
   "cell_type": "code",
   "execution_count": 11,
   "id": "3e84f1b3",
   "metadata": {},
   "outputs": [
    {
     "name": "stdout",
     "output_type": "stream",
     "text": [
      "large_decrease    2500\n",
      "no_change         2500\n",
      "small_decrease       0\n",
      "small_increase       0\n",
      "large_increase       0\n",
      "Name: NDVI_categories, dtype: int64\n"
     ]
    }
   ],
   "source": [
    "# 2500 to start with\n",
    "# Set the desired number of samples per category\n",
    "num_samples = 2500\n",
    "\n",
    "# Group the dataframe by the \"NDVI_categories\" column\n",
    "grouped = df_filtered.groupby(\"NDVI_categories\")\n",
    "\n",
    "# Create an empty list to store the sampled dataframes\n",
    "sampled_dfs = []\n",
    "\n",
    "# Iterate over each group\n",
    "for category, group in grouped:\n",
    "    # Check if the number of samples in the group is greater than the desired number\n",
    "    if len(group) > num_samples:\n",
    "        # Randomly sample the desired number of rows from the group\n",
    "        sampled_group = group.sample(n=num_samples, random_state=42)\n",
    "        # Add the sampled group to the list\n",
    "        sampled_dfs.append(sampled_group)\n",
    "    else:\n",
    "        # If the group has fewer samples than the desired number, add all rows to the list\n",
    "        sampled_dfs.append(group)\n",
    "\n",
    "# Concatenate the sampled dataframes back into a single dataframe\n",
    "df_sub_2019 = pd.concat(sampled_dfs)\n",
    "\n",
    "# Optional: Reset the index of the resulting dataframe\n",
    "df_sub_2019 = df_sub_2019.reset_index(drop=True)\n",
    "\n",
    "print(df_sub_2019[\"NDVI_categories\"].value_counts())\n",
    "# large_decrease    2500\n",
    "#no_change         2500\n",
    "#small_decrease       0\n",
    "#small_increase       0\n",
    "#large_increase       0\n",
    "#Name: NDVI_categories, dtype: int64\n",
    "\n",
    "# save it\n",
    "#df_sub_2019.to_csv(\"D:/Stenka_Cliwac/Topic_1/04_PROCESSED_DATA/20230614_modeling_df_2class/modeling_df_2class_2019.csv\", index=False)"
   ]
  }
 ],
 "metadata": {
  "kernelspec": {
   "display_name": "Python 3 (ipykernel)",
   "language": "python",
   "name": "python3"
  },
  "language_info": {
   "codemirror_mode": {
    "name": "ipython",
    "version": 3
   },
   "file_extension": ".py",
   "mimetype": "text/x-python",
   "name": "python",
   "nbconvert_exporter": "python",
   "pygments_lexer": "ipython3",
   "version": "3.10.11"
  }
 },
 "nbformat": 4,
 "nbformat_minor": 5
}
